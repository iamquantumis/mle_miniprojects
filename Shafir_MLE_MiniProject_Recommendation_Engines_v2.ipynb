{
  "nbformat": 4,
  "nbformat_minor": 0,
  "metadata": {
    "colab": {
      "provenance": []
    },
    "kernelspec": {
      "name": "python3",
      "display_name": "Python 3"
    },
    "language_info": {
      "name": "python"
    }
  },
  "cells": [
    {
      "cell_type": "markdown",
      "source": [
        "# Mini Project: Recommendation Engines\n",
        "\n",
        "Recommendation engines are algorithms designed to provide personalized suggestions or recommendations to users. These systems analyze user behavior, preferences, and interactions with items (products, movies, music, articles, etc.) to predict and offer items that users are likely to be interested in. Recommendation engines play a crucial role in enhancing user experience, driving engagement, and increasing conversion rates in various applications, including e-commerce, entertainment, content platforms, and more.\n",
        "\n",
        "There are generally two approaches taken in collaborative filtering and content-based recommendation engines:\n",
        "\n",
        "**1. Collaborative Filtering:**\n",
        "Collaborative Filtering is a popular approach to building recommendation systems that leverages the collective behavior of users to make personalized recommendations. It is based on the idea that users who have agreed in the past will likely agree in the future. There are two main types of collaborative filtering:\n",
        "\n",
        "- **User-based Collaborative Filtering:** This method finds users similar to the target user based on their past interactions (e.g., ratings or purchases). It then recommends items that similar users have liked but the target user has not interacted with yet.\n",
        "\n",
        "- **Item-based Collaborative Filtering:** In this approach, the system identifies similar items based on user interactions. It recommends items that are similar to the ones the target user has already liked or interacted with.\n",
        "\n",
        "Collaborative filtering does not require any explicit information about items but relies on the similarity between users or items. It is effective in capturing complex patterns and can provide serendipitous recommendations. However, it suffers from the cold-start problem (i.e., difficulty in recommending to new users or items with no interactions) and scalability challenges in large datasets.\n",
        "\n",
        "**2. Content-Based Recommendation:**\n",
        "Content-based recommendation is an alternative approach to building recommendation systems that focuses on the attributes or features of items and users. It leverages the characteristics of items to make recommendations. The key steps involved in content-based recommendation are:\n",
        "\n",
        "- **Feature Extraction:** For each item, relevant features are extracted. For movies, these features could be genre, director, actors, and plot summary.\n",
        "\n",
        "- **User Profile:** A user profile is created based on the items they have interacted with in the past. The user profile contains the weighted importance of features based on their interactions.\n",
        "\n",
        "- **Similarity Calculation:** The similarity between items or between items and the user profile is calculated using similarity metrics like cosine similarity or Euclidean distance.\n",
        "\n",
        "- **Recommendation:** Items that are most similar to the user profile are recommended to the user.\n",
        "\n",
        "Content-based recommendation systems are less affected by the cold-start problem as they can still recommend items based on their features. They are also more interpretable as they rely on item attributes. However, they may miss out on providing serendipitous recommendations and can be limited by the quality of feature extraction and user profiles.\n",
        "\n",
        "**Choosing Between Collaborative Filtering and Content-Based:**\n",
        "Both collaborative filtering and content-based approaches have their strengths and weaknesses. The choice between them depends on the specific requirements of the recommendation system, the type of data available, and the user base. Hybrid approaches that combine collaborative filtering and content-based techniques are also common, aiming to leverage the strengths of both methods and mitigate their weaknesses."
      ],
      "metadata": {
        "id": "fyXucUekO19i"
      }
    },
    {
      "cell_type": "markdown",
      "source": [
        "In this mini-project, you'll be building both content based and collaborative filtering engines for the [MovieLens 25M dataset](https://grouplens.org/datasets/movielens/25m/). The MovieLens 25M dataset is one of the most widely used and popular datasets for building and evaluating recommendation systems. It is provided by the GroupLens Research project, which collects and studies datasets related to movie ratings and recommendations. The MovieLens 25M dataset contains movie ratings and other related information contributed by users of the MovieLens website.\n",
        "\n",
        "**Dataset Details:**\n",
        "- **Size:** The dataset contains approximately 25 million movie ratings.\n",
        "- **Users:** It includes ratings from over 162,000 users.\n",
        "- **Movies:** The dataset consists of ratings for more than 62,000 movies.\n",
        "- **Ratings:** The ratings are provided on a scale of 1 to 5, where 1 is the lowest rating and 5 is the highest.\n",
        "- **Timestamps:** Each rating is associated with a timestamp, indicating when the rating was given.\n",
        "\n",
        "**Data Files:**\n",
        "The dataset is usually split into three CSV files:\n",
        "\n",
        "1. **movies.csv:** Contains information about movies, including the movie ID, title, genres, and release year.\n",
        "   - Columns: movieId, title, genres\n",
        "\n",
        "2. **ratings.csv:** Contains movie ratings provided by users, including the user ID, movie ID, rating, and timestamp.\n",
        "   - Columns: userId, movieId, rating, timestamp\n",
        "\n",
        "3. **tags.csv:** Contains user-generated tags for movies, including the user ID, movie ID, tag, and timestamp.\n",
        "   - Columns: userId, movieId, tag, timestamp"
      ],
      "metadata": {
        "id": "TYuE9O6I2uRY"
      }
    },
    {
      "cell_type": "markdown",
      "source": [
        "First, import all the libraries you'll need."
      ],
      "metadata": {
        "id": "DN0qzP-cRlMo"
      }
    },
    {
      "cell_type": "code",
      "execution_count": null,
      "metadata": {
        "id": "kLWR1DfQPakn"
      },
      "outputs": [],
      "source": [
        "import zipfile\n",
        "import numpy as np\n",
        "import pandas as pd\n",
        "from urllib.request import urlretrieve\n",
        "from sklearn.metrics.pairwise import cosine_similarity\n",
        "from sklearn.feature_extraction.text import TfidfVectorizer # For TF-IDF Matrices"
      ]
    },
    {
      "cell_type": "markdown",
      "source": [
        "Next, download the relevant components of the MoveLens dataset. Note, these instructions are roughly based on the colab [here](https://colab.research.google.com/github/google/eng-edu/blob/main/ml/recommendation-systems/recommendation-systems.ipynb?utm_source=ss-recommendation-systems&utm_campaign=colab-external&utm_medium=referral&utm_content=recommendation-systems#scrollTo=O3bcgduFo4s6)."
      ],
      "metadata": {
        "id": "iaG6vAKyREej"
      }
    },
    {
      "cell_type": "code",
      "source": [
        "print(\"Downloading movielens data...\")\n",
        "\n",
        "urlretrieve('http://files.grouplens.org/datasets/movielens/ml-100k.zip', 'movielens.zip')\n",
        "zip_ref = zipfile.ZipFile('movielens.zip', 'r')\n",
        "zip_ref.extractall()\n",
        "print(\"Done. Dataset contains:\")\n",
        "print(zip_ref.read('ml-100k/u.info'))\n",
        "\n",
        "ratings_cols = ['user_id', 'movie_id', 'rating', 'unix_timestamp']\n",
        "ratings = pd.read_csv(\n",
        "    'ml-100k/u.data', sep='\\t', names=ratings_cols, encoding='latin-1')\n",
        "\n",
        "# The movies file contains a binary feature for each genre.\n",
        "# Changed dashes to underscores so the TFIDF Vectorizer doesn't filter them out\n",
        "genre_cols = [\n",
        "    \"genre_unknown\", \"Action\", \"Adventure\", \"Animation\", \"Children\", \"Comedy\",\n",
        "    \"Crime\", \"Documentary\", \"Drama\", \"Fantasy\", \"Film_Noir\", \"Horror\",\n",
        "    \"Musical\", \"Mystery\", \"Romance\", \"Sci_Fi\", \"Thriller\", \"War\", \"Western\"\n",
        "]\n",
        "movies_cols = [\n",
        "    'movie_id', 'title', 'release_date', \"video_release_date\", \"imdb_url\"\n",
        "] + genre_cols\n",
        "movies = pd.read_csv(\n",
        "    'ml-100k/u.item', sep='|', names=movies_cols, encoding='latin-1')"
      ],
      "metadata": {
        "id": "-wCvx2ukPm-3",
        "colab": {
          "base_uri": "https://localhost:8080/"
        },
        "outputId": "538c9d5a-7595-44a6-a534-e9656aa931db"
      },
      "execution_count": null,
      "outputs": [
        {
          "output_type": "stream",
          "name": "stdout",
          "text": [
            "Downloading movielens data...\n",
            "Done. Dataset contains:\n",
            "b'943 users\\n1682 items\\n100000 ratings\\n'\n"
          ]
        }
      ]
    },
    {
      "cell_type": "markdown",
      "source": [
        "Before doing any kind of machine learning, it's always good to familiarize yourself with the datasets you'lll be working with.\n",
        "\n",
        "Here are your tasks:\n",
        "\n",
        "1. Spend some time familiarizing yourself with both the `movies` and `ratings` dataframes. How many unique user ids are present? How many unique movies are there?\n",
        "2. Create a new dataframe that merges the `movies` and `ratings` tables on 'movie_id'. Only keep the 'user_id', 'title', 'rating' fields in this new dataframe."
      ],
      "metadata": {
        "id": "pLAMVhnbR-Cy"
      }
    },
    {
      "cell_type": "code",
      "source": [
        "# Spend some time familiarizing yourself with both the movies and ratings\n",
        "# dataframes. How many unique user ids are present? How many unique movies\n",
        "# are there?\n",
        "print(\"Movies List\")\n",
        "print(movies.head())\n",
        "print(\"\\mMovies shape: \" + str(movies.shape))\n",
        "print(\"-------------\\nRatings List\")\n",
        "print(ratings.head())\n",
        "print(\"\\nRatings shape: \" + str(ratings.shape))\n",
        "print(\"\\nNumber of unique movies: \" + str(ratings.movie_id.nunique()))\n",
        "print(\"\\nNumber of unique users: \" + str(ratings.user_id.nunique()))"
      ],
      "metadata": {
        "id": "vp7Tx7H_P5f2",
        "colab": {
          "base_uri": "https://localhost:8080/"
        },
        "outputId": "07eef048-504e-49f2-fb2d-95293a3be5e7"
      },
      "execution_count": null,
      "outputs": [
        {
          "output_type": "stream",
          "name": "stdout",
          "text": [
            "Movies List\n",
            "   movie_id              title release_date  video_release_date  \\\n",
            "0         1   Toy Story (1995)  01-Jan-1995                 NaN   \n",
            "1         2   GoldenEye (1995)  01-Jan-1995                 NaN   \n",
            "2         3  Four Rooms (1995)  01-Jan-1995                 NaN   \n",
            "3         4  Get Shorty (1995)  01-Jan-1995                 NaN   \n",
            "4         5     Copycat (1995)  01-Jan-1995                 NaN   \n",
            "\n",
            "                                            imdb_url  genre_unknown  Action  \\\n",
            "0  http://us.imdb.com/M/title-exact?Toy%20Story%2...              0       0   \n",
            "1  http://us.imdb.com/M/title-exact?GoldenEye%20(...              0       1   \n",
            "2  http://us.imdb.com/M/title-exact?Four%20Rooms%...              0       0   \n",
            "3  http://us.imdb.com/M/title-exact?Get%20Shorty%...              0       1   \n",
            "4  http://us.imdb.com/M/title-exact?Copycat%20(1995)              0       0   \n",
            "\n",
            "   Adventure  Animation  Children  ...  Horror  Musical  Mystery  Romance  \\\n",
            "0          0          1         1  ...       0        0        0        0   \n",
            "1          1          0         0  ...       0        0        0        0   \n",
            "2          0          0         0  ...       0        0        0        0   \n",
            "3          0          0         0  ...       0        0        0        0   \n",
            "4          0          0         0  ...       0        0        0        0   \n",
            "\n",
            "   Sci_Fi  Thriller  War  Western        title_lower  \\\n",
            "0       0         0    0        0   toy story (1995)   \n",
            "1       0         1    0        0   goldeneye (1995)   \n",
            "2       0         1    0        0  four rooms (1995)   \n",
            "3       0         0    0        0  get shorty (1995)   \n",
            "4       0         1    0        0     copycat (1995)   \n",
            "\n",
            "                      genres  \n",
            "0  Animation Children Comedy  \n",
            "1  Action Adventure Thriller  \n",
            "2                   Thriller  \n",
            "3        Action Comedy Drama  \n",
            "4       Crime Drama Thriller  \n",
            "\n",
            "[5 rows x 26 columns]\n",
            "\\mMovies shape: (1682, 26)\n",
            "-------------\n",
            "Ratings List\n",
            "   user_id  movie_id  rating  unix_timestamp\n",
            "0      196       242       3       881250949\n",
            "1      186       302       3       891717742\n",
            "2       22       377       1       878887116\n",
            "3      244        51       2       880606923\n",
            "4      166       346       1       886397596\n",
            "\n",
            "Ratings shape: (100000, 4)\n",
            "\n",
            "Number of unique movies: 1682\n",
            "\n",
            "Number of unique users: 943\n"
          ]
        }
      ]
    },
    {
      "cell_type": "code",
      "source": [
        "# Merge movies and ratings dataframes\n",
        "moviesandratings_df = pd.merge(movies[[\"movie_id\", \"title\"]],\n",
        "                               ratings[[\"user_id\", \"movie_id\", \"rating\"]],\n",
        "                               on=\"movie_id\")\n",
        "print(moviesandratings_df.head())\n",
        "print(moviesandratings_df.shape)"
      ],
      "metadata": {
        "id": "f6MrymMJRMjB",
        "colab": {
          "base_uri": "https://localhost:8080/"
        },
        "outputId": "578407e9-1663-41e6-f1ba-b59c3e0cb374"
      },
      "execution_count": null,
      "outputs": [
        {
          "output_type": "stream",
          "name": "stdout",
          "text": [
            "   movie_id             title  user_id  rating\n",
            "0         1  Toy Story (1995)      308       4\n",
            "1         1  Toy Story (1995)      287       5\n",
            "2         1  Toy Story (1995)      148       4\n",
            "3         1  Toy Story (1995)      280       4\n",
            "4         1  Toy Story (1995)       66       3\n",
            "(100000, 4)\n"
          ]
        }
      ]
    },
    {
      "cell_type": "code",
      "source": [
        "# Look at a user's top movie ratings\n",
        "user_id = 5\n",
        "user_movies = moviesandratings_df[moviesandratings_df[\"user_id\"] == user_id]\n",
        "user_movies_sorted = user_movies.sort_values(by=['rating'], ascending=False)\n",
        "print(\"\\n-------- User Movies Sorted DF ---------\")\n",
        "print(user_movies_sorted.head(20))"
      ],
      "metadata": {
        "colab": {
          "base_uri": "https://localhost:8080/"
        },
        "id": "FKoglBVeuRj1",
        "outputId": "4d2b178d-c966-4894-f1f2-4e8024699390"
      },
      "execution_count": null,
      "outputs": [
        {
          "output_type": "stream",
          "name": "stdout",
          "text": [
            "\n",
            "-------- User Movies Sorted DF ---------\n",
            "       movie_id                                              title  user_id  \\\n",
            "39181       257                                Men in Black (1997)        5   \n",
            "12224        89                                Blade Runner (1982)        5   \n",
            "23967       172                    Empire Strikes Back, The (1980)        5   \n",
            "23618       169                         Wrong Trousers, The (1993)        5   \n",
            "27596       186                         Blues Brothers, The (1980)        5   \n",
            "22880       163             Return of the Pink Panther, The (1974)        5   \n",
            "28210       189                            Grand Day Out, A (1992)        5   \n",
            "21478       153                        Fish Called Wanda, A (1988)        5   \n",
            "31835       209                          This Is Spinal Tap (1984)        5   \n",
            "34997       228                Star Trek: The Wrath of Khan (1982)        5   \n",
            "15305       109     Mystery Science Theater 3000: The Movie (1996)        5   \n",
            "59142       428                            Harold and Maude (1971)        5   \n",
            "14915       101                                 Heavy Metal (1981)        5   \n",
            "14439       100                                       Fargo (1996)        5   \n",
            "24966       174                     Raiders of the Lost Ark (1981)        5   \n",
            "54870       382  Adventures of Priscilla, Queen of the Desert, ...        5   \n",
            "26554       181                          Return of the Jedi (1983)        5   \n",
            "5707         42                                      Clerks (1994)        5   \n",
            "55493       390                         Fear of a Black Hat (1993)        5   \n",
            "59986       434                            Forbidden Planet (1956)        5   \n",
            "\n",
            "       rating  \n",
            "39181       5  \n",
            "12224       5  \n",
            "23967       5  \n",
            "23618       5  \n",
            "27596       5  \n",
            "22880       5  \n",
            "28210       5  \n",
            "21478       5  \n",
            "31835       5  \n",
            "34997       5  \n",
            "15305       5  \n",
            "59142       5  \n",
            "14915       5  \n",
            "14439       5  \n",
            "24966       5  \n",
            "54870       5  \n",
            "26554       5  \n",
            "5707        5  \n",
            "55493       5  \n",
            "59986       5  \n"
          ]
        }
      ]
    },
    {
      "cell_type": "markdown",
      "source": [
        "As mentioned in the introduction, content-Based Filtering is a recommendation engine approach that focuses on the attributes or features of items (products, movies, music, articles, etc.) and leverages these features to make personalized recommendations. The underlying idea is to match the characteristics of items with the preferences of users to suggest items that align with their interests. Content-based filtering is particularly useful when explicit user-item interactions (e.g., ratings or purchases) are sparse or unavailable.\n",
        "\n",
        "**Key Steps in Content-Based Filtering:**\n",
        "\n",
        "1. **Feature Extraction:**\n",
        "   - For each item, relevant features are extracted. These features are typically descriptive attributes that can be represented numerically, such as genre, director, actors, author, publication date, and keywords.\n",
        "   - In the case of text-based items, natural language processing techniques may be used to extract features like TF-IDF (Term Frequency-Inverse Document Frequency) scores.\n",
        "\n",
        "2. **User Profile Creation:**\n",
        "   - A user profile is created based on the items they have interacted with in the past. The user profile contains the weighted importance of features based on their interactions.\n",
        "   - For example, if a user has watched several action movies, the action genre feature would receive a higher weight in their profile.\n",
        "\n",
        "3. **Similarity Calculation:**\n",
        "   - The similarity between items or between items and the user profile is calculated using similarity metrics like cosine similarity, Euclidean distance, or Pearson correlation.\n",
        "   - Cosine similarity is commonly used as it measures the cosine of the angle between two vectors, which represents their similarity.\n",
        "\n",
        "4. **Recommendation:**\n",
        "   - Items that are most similar to the user profile are recommended to the user. These are items whose features have the highest similarity scores with the user profile.\n",
        "   - The recommended items are presented as a list sorted by their similarity scores.\n",
        "\n",
        "**Advantages of Content-Based Filtering:**\n",
        "1. **No Cold-Start Problem:** Content-based filtering can make recommendations even for new users with no historical interactions because it relies on item features rather than user history.\n",
        "\n",
        "2. **User Independence:** The recommendations are based solely on the features of items and do not require knowledge of other users' preferences or behavior.\n",
        "\n",
        "3. **Transparency:** Content-based recommendations are interpretable, as they depend on the features of items, making it easier for users to understand why specific items are recommended.\n",
        "\n",
        "4. **Serendipity:** Content-based filtering can recommend items with characteristics not seen before by the user, leading to serendipitous discoveries.\n",
        "\n",
        "5. **Diversity in Recommendations:** The method can offer diverse recommendations since it suggests items with different feature combinations.\n",
        "\n",
        "**Limitations of Content-Based Filtering:**\n",
        "1. **Limited Discovery:** Content-based filtering may struggle to recommend items outside the scope of users' historical interactions or interests.\n",
        "\n",
        "2. **Over-Specialization:** Users may receive recommendations that are too similar to their previous choices, leading to a lack of exposure to new item categories.\n",
        "\n",
        "3. **Dependency on Feature Quality:** The quality and relevance of item features significantly influence the quality of recommendations.\n",
        "\n",
        "4. **Limited for Cold Items:** Content-based filtering can struggle to recommend new items with limited feature information."
      ],
      "metadata": {
        "id": "_U44W0TMT3qf"
      }
    },
    {
      "cell_type": "markdown",
      "source": [
        "Here is your task:\n",
        "\n",
        "1. Write a function that takes in a user id and the dataframe you created before that contains 'user_id', 'title', and 'rating'. The function should return content-based recommendations for this user. Here are steps you can take:\n",
        "\n",
        "  A. Get the user's rated movies\n",
        "\n",
        "  B. Create a TF-IDF matrix using movie genres. Note, this can be extracted from the `movies` dataframe.\n",
        "\n",
        "  C. Compute the cosine similarity between movie genres. Use the [cosine_similarity](https://scikit-learn.org/stable/modules/generated/sklearn.metrics.pairwise.cosine_similarity.html) function.\n",
        "\n",
        "  D. Get the indices of similar movies to those rated by the user based on cosine similarity. Keep only the top 5.\n",
        "\n",
        "  E. Remove duplicates and movies already rated by the user."
      ],
      "metadata": {
        "id": "sbJGD7j7Ui-8"
      }
    },
    {
      "cell_type": "code",
      "source": [
        "def content_based_recommendation(user_id, df):\n",
        "\n",
        "    # A. Get the user's rated movies and ensure uniqueness\n",
        "    user_movies = df[df['user_id'] == user_id].drop_duplicates(subset=['movie_id'])\n",
        "    user_movie_ids = set(user_movies['movie_id'])\n",
        "\n",
        "    # Prepare the genre data from the 'movies' dataframe outside the function\n",
        "    movies['genres'] = movies.apply(\n",
        "        lambda x: ' '.join([genre for genre in genre_cols if x[genre] == 1]),\n",
        "        axis=1)\n",
        "\n",
        "    # Merge with movies dataframe to get genre information for user-rated movies\n",
        "    user_movies_with_genres = pd.merge(\n",
        "        user_movies[['movie_id']],\n",
        "        movies[['movie_id', 'genres']],\n",
        "        on='movie_id')\n",
        "\n",
        "    # B. Create a TF-IDF matrix using movie genres from 'movies' dataframe\n",
        "    tfidf = TfidfVectorizer(stop_words='english')\n",
        "    tfidf_matrix = tfidf.fit_transform(movies['genres'])\n",
        "\n",
        "    # C. Compute the cosine similarity between movie genres\n",
        "    cosine_sim = cosine_similarity(tfidf_matrix, tfidf_matrix)\n",
        "\n",
        "    # D. Get the indices of similar movies to those rated by the user\n",
        "    #    based on cosine similarity\n",
        "    similar_movies = []\n",
        "\n",
        "    for movie_id in user_movies_with_genres['movie_id']:\n",
        "\n",
        "        # Find index of the movie in the movies dataframe\n",
        "        idx = movies[movies['movie_id'] == movie_id].index[0]\n",
        "\n",
        "        # Get similarity scores for this movie to all others\n",
        "        sim_scores = list(enumerate(cosine_sim[idx]))\n",
        "\n",
        "        # Sort movies based on similarity score\n",
        "        sim_scores = sorted(sim_scores, key=lambda x: x[1], reverse=True)\n",
        "\n",
        "        # Get top similar movies excluding the movie itself\n",
        "        sim_scores = sim_scores[1:6]  # Top 5 similar movies\n",
        "        similar_movies.extend([i[0] for i in sim_scores])\n",
        "\n",
        "    # E. Remove duplicates, movies already rated by the user,\n",
        "    #    and ensure we have unique recommendations\n",
        "    similar_movies = [\n",
        "        idx for idx in set(similar_movies)\n",
        "          if movies.loc[idx, 'movie_id'] not in user_movie_ids\n",
        "    ]\n",
        "\n",
        "    # Keep only top 5 recommendations after removing duplicates\n",
        "    similar_movies = list(similar_movies)[:5]\n",
        "\n",
        "    # Return titles of recommended movies\n",
        "    return movies.loc[similar_movies, 'title'].tolist()"
      ],
      "metadata": {
        "id": "17SZysMVLdqM"
      },
      "execution_count": null,
      "outputs": []
    },
    {
      "cell_type": "markdown",
      "source": [
        "The key idea behind collaborative filtering is that users who have agreed in the past will likely agree in the future. Instead of relying on item attributes or user profiles, collaborative filtering identifies patterns of user behavior and item preferences from the interactions present in the data.\n",
        "\n",
        "**Types of Collaborative Filtering:**\n",
        "There are two main types of collaborative filtering:\n",
        "\n",
        "**Collaborative Filtering Process:**\n",
        "The collaborative filtering process typically involves the following steps:\n",
        "\n",
        "1. **Data Collection:**\n",
        "   - Gather data on user-item interactions, such as movie ratings, product purchases, or article clicks.\n",
        "\n",
        "2. **User-Item Matrix:**\n",
        "   - Organize the data into a user-item matrix, where rows represent users, columns represent items, and the entries contain the users' interactions (e.g., ratings).\n",
        "\n",
        "3. **Similarity Calculation:**\n",
        "   - Calculate the similarity between users or items using similarity metrics such as cosine similarity, Pearson correlation, or Jaccard similarity.\n",
        "   - For user-based collaborative filtering, user similarities are calculated, and for item-based collaborative filtering, item similarities are calculated.\n",
        "\n",
        "4. **Neighborhood Selection:**\n",
        "   - For each user or item, select the most similar users or items as the neighborhood.\n",
        "   - The size of the neighborhood (the number of similar users or items to consider) is an important parameter to control the system's behavior.\n",
        "\n",
        "5. **Prediction Generation:**\n",
        "   - Predict the ratings for items that the target user has not yet interacted with by combining the ratings of neighboring users or items.\n",
        "\n",
        "6. **Recommendation Generation:**\n",
        "   - Recommend items with the highest predicted ratings to the target user.\n",
        "\n",
        "**Advantages of Collaborative Filtering using User-Item Interactions:**\n",
        "- Collaborative filtering is based solely on user interactions and does not require knowledge of item attributes, making it useful for cases where item data is sparse or unavailable.\n",
        "- It can provide serendipitous recommendations, suggesting items that users may not have discovered on their own.\n",
        "- Collaborative filtering can be applied in various domains, including e-commerce, music, movie, and content recommendations.\n",
        "\n",
        "**Limitations of Collaborative Filtering:**\n",
        "- The cold-start problem: Collaborative filtering struggles to recommend to new users or items with no or limited interaction history.\n",
        "- It may suffer from sparsity when data is limited or when users have only interacted with a small subset of items.\n",
        "- Scalability issues can arise with large datasets and an increasing number of users or items."
      ],
      "metadata": {
        "id": "2NNt3gHLYDxU"
      }
    },
    {
      "cell_type": "markdown",
      "source": [
        "Here is your task:\n",
        "\n",
        "1. Write a function that takes in a user id and the dataframe you created before that contains 'user_id', 'title', and 'rating'. The function should return collaborative filtering recommendations for this user based on a user-item interaction matrix. Here are steps you can take:\n",
        "\n",
        "  A. Create the user-item matrix using Pandas' [pivot_table](https://pandas.pydata.org/docs/reference/api/pandas.pivot_table.html).\n",
        "\n",
        "  B. Fill missing values with zeros in this matrix.\n",
        "\n",
        "  C. Calculate user-user similarity matrix using cosine similarity.\n",
        "\n",
        "  D. Get the array of similarity scores of the target user with all other users from the similarity matrix.\n",
        "\n",
        "  E. Extract, say the the top 5 most similar users (excluding the target user).\n",
        "\n",
        "  F. Generate movie recommendations based on the most similar users.\n",
        "\n",
        "  G. Remove duplicate movies recommendations."
      ],
      "metadata": {
        "id": "ks4mWyCaYVNY"
      }
    },
    {
      "cell_type": "code",
      "source": [
        "# Collaborative Filtering using User-Item Interactions\n",
        "def collaborative_filtering_recommendation(user_id, df):\n",
        "\n",
        "    # A. Create the user-item matrix using Pandas' pivot_table\n",
        "    user_item_matrix = df.pivot_table(index='user_id',\n",
        "                                      columns='movie_id',\n",
        "                                      values='rating').fillna(0)\n",
        "\n",
        "    # B. Fill missing values with zeros (already done in the pivot_table above)\n",
        "\n",
        "    # C. Calculate user-user similarity matrix using cosine similarity\n",
        "    user_similarities = cosine_similarity(user_item_matrix)\n",
        "\n",
        "    # D. Get the array of similarity scores of the target user with all other users\n",
        "    user_sim_index = user_item_matrix.index.get_loc(user_id)\n",
        "    user_sim_scores = user_similarities[user_sim_index]\n",
        "\n",
        "    # E. Extract the top 5 most similar users (excluding the target user)\n",
        "    #    Sort by similarity score in descending order\n",
        "    similar_users = np.argsort(user_sim_scores)[::-1][1:6] # Exclude self [::-1]\n",
        "\n",
        "    # F. Generate movie recommendations based on the most similar users\n",
        "    similar_user_ratings = user_item_matrix.iloc[similar_users]\n",
        "\n",
        "    # Get movies that these similar users have rated but the target user hasn't\n",
        "    target_user_ratings = user_item_matrix.loc[user_id]\n",
        "\n",
        "    # Align the indices of similar_user_ratings and target_user_ratings\n",
        "    similar_user_ratings_aligned = similar_user_ratings.\\\n",
        "                                   reindex(columns=target_user_ratings.index,\n",
        "                                           fill_value=0)\n",
        "\n",
        "    movies_to_recommend = similar_user_ratings_aligned.\\\n",
        "                              loc[:, target_user_ratings == 0].\\\n",
        "                              mean(axis=0).sort_values(ascending=False)\n",
        "\n",
        "    # G. Remove duplicates from recommendations\n",
        "    #    (since we're dealing with movie IDs, no duplicates should exist here)\n",
        "    recommendations = movies_to_recommend.index[:5] # Take top 5 recommendations\n",
        "\n",
        "    # Convert movie_id to movie titles\n",
        "    recommended_titles = movies[movies['movie_id'].\\\n",
        "                                isin(recommendations)]['title'].tolist()\n",
        "\n",
        "    return recommended_titles"
      ],
      "metadata": {
        "id": "BqZPgKRDWf-c"
      },
      "execution_count": null,
      "outputs": []
    },
    {
      "cell_type": "markdown",
      "source": [
        "Now, test your recommendations engines! Select a few user ids and generate recommendations using both functions you've written. Are the recommendations similar? Do the recommendations make sense?"
      ],
      "metadata": {
        "id": "-Jj883VAZRNe"
      }
    },
    {
      "cell_type": "markdown",
      "source": [
        "\n",
        "\n",
        "> Based on the results below it appears the Collaborative Filtering Recommendations work a little better than the Content-basd (really genre-based in this case) though they're not too far off.\n",
        "\n"
      ],
      "metadata": {
        "id": "uixgrUu4wPVv"
      }
    },
    {
      "cell_type": "code",
      "source": [
        "# Test the recommendation engines\n",
        "\n",
        "# Loop through several IDs\n",
        "for id in range(5, 25, 5):\n",
        "\n",
        "    # Show Top 10 rated movies for each user\n",
        "    user_movies = moviesandratings_df[moviesandratings_df[\"user_id\"] == id]\n",
        "    user_movies_sorted = user_movies.sort_values(by=['rating'], ascending=False)\n",
        "\n",
        "    print(f\"\\n-------- Top 10 Movies for User {id} ---------\")\n",
        "    print(user_movies_sorted.head(10))\n",
        "\n",
        "    # Content-Based Recommendations\n",
        "    print(f\"\\n--- Content-Based Recommended Movies for User {id} ---\\n\")\n",
        "    print(content_based_recommendation(id, moviesandratings_df))\n",
        "\n",
        "    # Collaborative Filtering Recommendations\n",
        "    print(f\"\\n--- Collaborative Filtering Recommended Movies for User {id} ---\\n\")\n",
        "    recommendations = collaborative_filtering_recommendation(id,\n",
        "                                                             moviesandratings_df)\n",
        "    print(recommendations)\n",
        "\n",
        "    print(\"\\n----------------------------------\\n\")\n",
        "\n"
      ],
      "metadata": {
        "id": "kt9nuOTNJXz8",
        "colab": {
          "base_uri": "https://localhost:8080/"
        },
        "outputId": "07c5edef-0ce3-4391-a9e2-f7b461032f75"
      },
      "execution_count": null,
      "outputs": [
        {
          "output_type": "stream",
          "name": "stdout",
          "text": [
            "\n",
            "-------- Top 10 Movies for User 5 ---------\n",
            "       movie_id                                   title  user_id  rating\n",
            "39181       257                     Men in Black (1997)        5       5\n",
            "12224        89                     Blade Runner (1982)        5       5\n",
            "23967       172         Empire Strikes Back, The (1980)        5       5\n",
            "23618       169              Wrong Trousers, The (1993)        5       5\n",
            "27596       186              Blues Brothers, The (1980)        5       5\n",
            "22880       163  Return of the Pink Panther, The (1974)        5       5\n",
            "28210       189                 Grand Day Out, A (1992)        5       5\n",
            "21478       153             Fish Called Wanda, A (1988)        5       5\n",
            "31835       209               This Is Spinal Tap (1984)        5       5\n",
            "34997       228     Star Trek: The Wrath of Khan (1982)        5       5\n",
            "\n",
            "--- Content-Based Recommended Movies for User 5 ---\n",
            "\n",
            "['Boot, Das (1981)', 'Four Rooms (1995)', 'Get Shorty (1995)', 'Magnificent Seven, The (1954)', 'Twelve Monkeys (1995)']\n",
            "\n",
            "--- Collaborative Filtering Recommended Movies for User 5 ---\n",
            "\n",
            "['Jurassic Park (1993)', 'Brazil (1985)', 'Terminator, The (1984)', 'Casablanca (1942)', 'Real Genius (1985)']\n",
            "\n",
            "----------------------------------\n",
            "\n",
            "\n",
            "-------- Top 10 Movies for User 10 ---------\n",
            "       movie_id                                   title  user_id  rating\n",
            "53403       357  One Flew Over the Cuckoo's Nest (1975)       10       5\n",
            "25919       179              Clockwork Orange, A (1971)       10       5\n",
            "69168       531                            Shine (1996)       10       5\n",
            "28388       191                          Amadeus (1984)       10       5\n",
            "27435       185                           Psycho (1960)       10       5\n",
            "26955       183                            Alien (1979)       10       5\n",
            "26747       182                       GoodFellas (1990)       10       5\n",
            "26113       180                   Apocalypse Now (1979)       10       5\n",
            "72659       589                  Wild Bunch, The (1969)       10       5\n",
            "68519       525                   Big Sleep, The (1946)       10       5\n",
            "\n",
            "--- Content-Based Recommended Movies for User 10 ---\n",
            "\n",
            "['Four Rooms (1995)', 'Copycat (1995)', \"Mr. Holland's Opus (1995)\", 'White Balloon, The (1995)', \"Antonia's Line (1995)\"]\n",
            "\n",
            "--- Collaborative Filtering Recommended Movies for User 10 ---\n",
            "\n",
            "['Godfather: Part II, The (1974)', \"Schindler's List (1993)\", 'To Kill a Mockingbird (1962)', 'To Catch a Thief (1955)', 'Boot, Das (1981)']\n",
            "\n",
            "----------------------------------\n",
            "\n",
            "\n",
            "-------- Top 10 Movies for User 15 ---------\n",
            "       movie_id                                        title  user_id  rating\n",
            "48254       308               FairyTale: A True Story (1997)       15       5\n",
            "6537         50                             Star Wars (1977)       15       5\n",
            "83694       754                            Red Corner (1997)       15       5\n",
            "38967       255              My Best Friend's Wedding (1997)       15       5\n",
            "26312       181                    Return of the Jedi (1983)       15       5\n",
            "41054       269                       Full Monty, The (1997)       15       5\n",
            "17689       125                            Phenomenon (1996)       15       5\n",
            "61609       459              Cry, the Beloved Country (1995)       15       5\n",
            "61524       458                                 Nixon (1995)       15       5\n",
            "47986       306  Mrs. Brown (Her Majesty, Mrs. Brown) (1997)       15       5\n",
            "\n",
            "--- Content-Based Recommended Movies for User 15 ---\n",
            "\n",
            "['Fire Down Below (1997)', 'GoldenEye (1995)', 'Manhattan (1979)', 'Treasure of the Sierra Madre, The (1948)', 'Drop Dead Fred (1991)']\n",
            "\n",
            "--- Collaborative Filtering Recommended Movies for User 15 ---\n",
            "\n",
            "['Fargo (1996)', 'Lone Star (1996)', 'Leaving Las Vegas (1995)', 'Boot, Das (1981)', 'Sleepers (1996)']\n",
            "\n",
            "----------------------------------\n",
            "\n",
            "\n",
            "-------- Top 10 Movies for User 20 ---------\n",
            "       movie_id                                      title  user_id  rating\n",
            "3780         22                          Braveheart (1995)       20       5\n",
            "11865        87         Searching for Bobby Fischer (1993)       20       5\n",
            "20800       148         Ghost and the Darkness, The (1996)       20       5\n",
            "65484       496               It's a Wonderful Life (1946)       20       5\n",
            "90264       934                Preacher's Wife, The (1996)       20       4\n",
            "32083       210  Indiana Jones and the Last Crusade (1989)       20       4\n",
            "38711       252      Lost World: Jurassic Park, The (1997)       20       4\n",
            "42154       274                             Sabrina (1995)       20       4\n",
            "26265       181                  Return of the Jedi (1983)       20       4\n",
            "50392       323                        Dante's Peak (1997)       20       4\n",
            "\n",
            "--- Content-Based Recommended Movies for User 20 ---\n",
            "\n",
            "['Boot, Das (1981)', 'Dead Man Walking (1995)', 'Usual Suspects, The (1995)', 'White Balloon, The (1995)', \"Antonia's Line (1995)\"]\n",
            "\n",
            "--- Collaborative Filtering Recommended Movies for User 20 ---\n",
            "\n",
            "['Apollo 13 (1995)', 'Lion King, The (1994)', 'Monty Python and the Holy Grail (1974)', 'Dead Poets Society (1989)', 'Star Trek: First Contact (1996)']\n",
            "\n",
            "----------------------------------\n",
            "\n"
          ]
        }
      ]
    },
    {
      "cell_type": "code",
      "source": [],
      "metadata": {
        "id": "gp4n8mcptSKE"
      },
      "execution_count": null,
      "outputs": []
    }
  ]
}