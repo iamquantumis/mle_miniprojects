{
  "nbformat": 4,
  "nbformat_minor": 0,
  "metadata": {
    "colab": {
      "provenance": [],
      "gpuType": "V28"
    },
    "kernelspec": {
      "name": "python3",
      "display_name": "Python 3"
    },
    "language_info": {
      "name": "python"
    },
    "accelerator": "TPU"
  },
  "cells": [
    {
      "cell_type": "markdown",
      "source": [
        "# Mini Project: Transfer Learning with Keras\n",
        "\n",
        "Transfer learning is a machine learning technique where a model trained on one task is used as a starting point to solve a different but related task. Instead of training a model from scratch, transfer learning leverages the knowledge learned from the source task and applies it to the target task. This approach is especially useful when the target task has limited data or computational resources.\n",
        "\n",
        "In transfer learning, the pre-trained model, also known as the \"base model\" or \"source model,\" is typically trained on a large dataset and a more general problem (e.g., image classification on ImageNet, a vast dataset with millions of labeled images). The knowledge learned by the base model in the form of feature representations and weights captures common patterns and features in the data.\n",
        "\n",
        "To perform transfer learning, the following steps are commonly followed:\n",
        "\n",
        "1. Pre-training: The base model is trained on a source task using a large dataset, which can take a considerable amount of time and computational resources.\n",
        "\n",
        "2. Feature Extraction: After pre-training, the base model is used as a feature extractor. The last few layers (classifier layers) of the model are discarded, and the remaining layers (feature extraction layers) are retained. These layers serve as feature extractors, producing meaningful representations of the data.\n",
        "\n",
        "3. Fine-tuning: The feature extraction layers and sometimes some of the earlier layers are connected to a new set of layers, often called the \"classifier layers\" or \"task-specific layers.\" These layers are randomly initialized, and the model is trained on the target task with a smaller dataset. The weights of the base model can be frozen during fine-tuning, or they can be allowed to be updated with a lower learning rate to fine-tune the model for the target task.\n",
        "\n",
        "Transfer learning has several benefits:\n",
        "\n",
        "1. Reduced training time and resource requirements: Since the base model has already learned generic features, transfer learning can save time and resources compared to training a model from scratch.\n",
        "\n",
        "2. Improved generalization: Transfer learning helps the model generalize better to the target task, especially when the target dataset is small and dissimilar from the source dataset.\n",
        "\n",
        "3. Better performance: By starting from a model that is already trained on a large dataset, transfer learning can lead to better performance on the target task, especially in scenarios with limited data.\n",
        "\n",
        "4. Effective feature extraction: The feature extraction layers of the pre-trained model can serve as powerful feature extractors for different tasks, even when the task domains differ.\n",
        "\n",
        "Transfer learning is commonly used in various domains, including computer vision, natural language processing (NLP), and speech recognition, where pre-trained models are fine-tuned for specific applications like object detection, sentiment analysis, or speech-to-text.\n",
        "\n",
        "In this mini-project you will perform fine-tuning using Keras with a pre-trained VGG16 model on the CIFAR-10 dataset."
      ],
      "metadata": {
        "id": "fyXucUekO19i"
      }
    },
    {
      "cell_type": "markdown",
      "source": [
        "First, import all the libraries you'll need."
      ],
      "metadata": {
        "id": "TYuE9O6I2uRY"
      }
    },
    {
      "cell_type": "code",
      "execution_count": null,
      "metadata": {
        "id": "kLWR1DfQPakn"
      },
      "outputs": [],
      "source": [
        "import numpy as np\n",
        "import tensorflow as tf\n",
        "from tensorflow.keras.datasets import cifar10\n",
        "from tensorflow.keras.applications import VGG16\n",
        "from tensorflow.keras.models import Model\n",
        "from tensorflow.keras.layers import Dense, GlobalAveragePooling2D\n",
        "from tensorflow.keras.optimizers import Adam, AdamW\n",
        "from tensorflow.keras.utils import to_categorical\n",
        "from sklearn.model_selection import train_test_split"
      ]
    },
    {
      "cell_type": "markdown",
      "source": [
        "The CIFAR-10 dataset is a widely used benchmark dataset in the field of computer vision and machine learning. It stands for the \"Canadian Institute for Advanced Research 10\" dataset. CIFAR-10 was created by researchers at the CIFAR institute and was originally introduced as part of the Neural Information Processing Systems (NIPS) 2009 competition.\n",
        "\n",
        "The dataset consists of 60,000 color images, each of size 32x32 pixels, belonging to ten different classes. Each class contains 6,000 images. The ten classes in CIFAR-10 are:\n",
        "\n",
        "1. Airplane\n",
        "2. Automobile\n",
        "3. Bird\n",
        "4. Cat\n",
        "5. Deer\n",
        "6. Dog\n",
        "7. Frog\n",
        "8. Horse\n",
        "9. Ship\n",
        "10. Truck\n",
        "\n",
        "The images are evenly distributed across the classes, making CIFAR-10 a balanced dataset. The dataset is divided into two sets: a training set and a test set. The training set contains 50,000 images, while the test set contains the remaining 10,000 images.\n",
        "\n",
        "CIFAR-10 is often used for tasks such as image classification, object recognition, and transfer learning experiments. The relatively small size of the images and the variety of classes make it a challenging dataset for training machine learning models, especially deep neural networks. It also serves as a good dataset for teaching and learning purposes due to its manageable size and straightforward class labels."
      ],
      "metadata": {
        "id": "TEB60YsX2yUf"
      }
    },
    {
      "cell_type": "markdown",
      "source": [
        "Here are your tasks:\n",
        "\n",
        "1. Load the CIFAR-10 dataset after referencing the documentation [here](https://keras.io/api/datasets/cifar10/).\n",
        "2. Normalize the pixel values so they're all in the range [0, 1].\n",
        "3. Apply One Hot Encoding to the train and test labels using the [to_categorical](https://www.tensorflow.org/api_docs/python/tf/keras/utils/to_categorical) function.\n",
        "4. Further split the the training data into training and validation sets using [train_test_split](https://scikit-learn.org/stable/modules/generated/sklearn.model_selection.train_test_split.html). Use only 10% of the data for validation.  "
      ],
      "metadata": {
        "id": "Gp0MVIbiFonL"
      }
    },
    {
      "cell_type": "code",
      "source": [
        "# Load the CIFAR-10 dataset\n",
        "(x_train, y_train), (x_test, y_test) = cifar10.load_data()"
      ],
      "metadata": {
        "id": "ndNbwjaaSvs-",
        "colab": {
          "base_uri": "https://localhost:8080/"
        },
        "outputId": "56fdeb68-475f-4502-a973-81217158c1d8"
      },
      "execution_count": null,
      "outputs": [
        {
          "output_type": "stream",
          "name": "stdout",
          "text": [
            "Downloading data from https://www.cs.toronto.edu/~kriz/cifar-10-python.tar.gz\n",
            "170498071/170498071 [==============================] - 2s 0us/step\n"
          ]
        }
      ]
    },
    {
      "cell_type": "code",
      "source": [
        "print(\"Training Size:\",x_train.shape)\n",
        "print(\"Test Size:\", x_test.shape)\n",
        "print(\"Training Label Size:\", y_train.shape)\n",
        "print(\"Test Label Size:\", y_test.shape)"
      ],
      "metadata": {
        "colab": {
          "base_uri": "https://localhost:8080/"
        },
        "id": "-QvX1g0f8uVa",
        "outputId": "3916ac0f-532f-4d46-9819-cf1141d3a8a2"
      },
      "execution_count": null,
      "outputs": [
        {
          "output_type": "stream",
          "name": "stdout",
          "text": [
            "Training Size: (50000, 32, 32, 3)\n",
            "Test Size: (10000, 32, 32, 3)\n",
            "Training Label Size: (50000, 1)\n",
            "Test Label Size: (10000, 1)\n"
          ]
        }
      ]
    },
    {
      "cell_type": "code",
      "source": [
        "# Normalize the pixel values to [0, 1]\n",
        "x_train = x_train.astype('float32') / 255.0\n",
        "x_test = x_test.astype('float32') / 255.0"
      ],
      "metadata": {
        "id": "8H6KUgh2SxxR"
      },
      "execution_count": null,
      "outputs": []
    },
    {
      "cell_type": "code",
      "source": [
        "# One-hot encode the labels\n",
        "y_train = to_categorical(y_train, num_classes=10)\n",
        "y_test = to_categorical(y_test, num_classes=10)"
      ],
      "metadata": {
        "id": "mWDW1ZLySz7K"
      },
      "execution_count": null,
      "outputs": []
    },
    {
      "cell_type": "code",
      "source": [
        "# Split the data into training and validation sets\n",
        "x_train2, x_test2, y_train2, y_test2 = train_test_split(x_train,\n",
        "                                                        y_train,\n",
        "                                                        test_size=0.1,\n",
        "                                                        random_state=42)"
      ],
      "metadata": {
        "id": "4y3zao91ndZB"
      },
      "execution_count": null,
      "outputs": []
    },
    {
      "cell_type": "markdown",
      "source": [
        "VGG16 (Visual Geometry Group 16) is a deep convolutional neural network architecture that was developed by the Visual Geometry Group at the University of Oxford. It was proposed by researchers Karen Simonyan and Andrew Zisserman in their paper titled \"Very Deep Convolutional Networks for Large-Scale Image Recognition,\" which was presented at the International Conference on Learning Representations (ICLR) in 2015.\n",
        "\n",
        "The VGG16 architecture gained significant popularity for its simplicity and effectiveness in image classification tasks. It was one of the pioneering models that demonstrated the power of deeper neural networks for visual recognition tasks.\n",
        "\n",
        "Key characteristics of the VGG16 architecture:\n",
        "\n",
        "1. Architecture: VGG16 consists of a total of 16 layers, hence the name \"16.\" These layers are stacked one after another, forming a deep neural network.\n",
        "\n",
        "2. Convolutional Layers: The main building blocks of VGG16 are the convolutional layers. It primarily uses 3x3 convolutional filters throughout the network, which allows it to capture local features effectively.\n",
        "\n",
        "3. Max Pooling: After each set of convolutional layers, VGG16 applies max-pooling layers with 2x2 filters and stride 2, which halves the spatial dimensions (width and height) of the feature maps and reduces the number of parameters.\n",
        "\n",
        "4. Fully Connected Layers: Towards the end of the network, VGG16 has fully connected layers that act as a classifier to make predictions based on the learned features.\n",
        "\n",
        "5. Activation Function: The network uses the Rectified Linear Unit (ReLU) activation function for all hidden layers, which helps with faster convergence during training.\n",
        "\n",
        "6. Number of Filters: The number of filters in each convolutional layer is relatively small compared to more recent architectures like ResNet or InceptionNet. However, stacking multiple layers allows VGG16 to learn complex hierarchical features.\n",
        "\n",
        "7. Output Layer: The output layer consists of 1000 units, corresponding to 1000 ImageNet classes. VGG16 was originally trained on the large-scale ImageNet dataset, which contains millions of images from 1000 different classes.\n",
        "\n",
        "VGG16 was instrumental in showing that increasing the depth of a neural network can significantly improve its performance on image recognition tasks. However, the main drawback of VGG16 is its high number of parameters, making it computationally expensive and memory-intensive to train. Despite this limitation, VGG16 remains an essential benchmark architecture and has paved the way for even deeper and more efficient models in the field of computer vision, such as ResNet, DenseNet, and EfficientNet."
      ],
      "metadata": {
        "id": "aiFJsxS5HPHW"
      }
    },
    {
      "cell_type": "markdown",
      "source": [
        "Here are your tasks:\n",
        "\n",
        "1. Load [VGG16](https://keras.io/api/applications/vgg/#vgg16-function) as a base model. Make sure to exclude the top layer.\n",
        "2. Freeze all the layers in the base model. We'll be using these weights as a feature extraction layer to forward to layers that are trainable."
      ],
      "metadata": {
        "id": "XJw9E1D9Q3tQ"
      }
    },
    {
      "cell_type": "code",
      "source": [
        "# Load the pre-trained VGG16 model (excluding the top classifier)\n",
        "vgg16_base = VGG16(weights='imagenet',\n",
        "                   include_top=False,\n",
        "                   input_shape=(32, 32, 3))"
      ],
      "metadata": {
        "id": "bncm8oTonijm",
        "colab": {
          "base_uri": "https://localhost:8080/"
        },
        "outputId": "0c7721df-c847-4b32-b9b7-608f251f1c23"
      },
      "execution_count": null,
      "outputs": [
        {
          "output_type": "stream",
          "name": "stdout",
          "text": [
            "Downloading data from https://storage.googleapis.com/tensorflow/keras-applications/vgg16/vgg16_weights_tf_dim_ordering_tf_kernels_notop.h5\n",
            "58889256/58889256 [==============================] - 0s 0us/step\n"
          ]
        }
      ]
    },
    {
      "cell_type": "code",
      "source": [
        "# Freeze the layers in the base model\n",
        "for layer in vgg16_base.layers:\n",
        "    layer.trainable = False"
      ],
      "metadata": {
        "id": "pCQXH4bwS6h5"
      },
      "execution_count": null,
      "outputs": []
    },
    {
      "cell_type": "markdown",
      "source": [
        "Now, we'll add some trainable layers to the base model.\n",
        "\n",
        "1. Using the base model, add a [GlobalAveragePooling2D](https://keras.io/api/layers/pooling_layers/global_average_pooling2d/) layer, followed by a [Dense](https://keras.io/api/layers/core_layers/dense/) layer of length 256 with ReLU activation. Finally, add a classification layer with 10 units, corresponding to the 10 CIFAR-10 classes, with softmax activation.\n",
        "2. Create a Keras [Model](https://keras.io/api/models/model/) that takes in approproate inputs and outputs."
      ],
      "metadata": {
        "id": "MAnyLR6btWqd"
      }
    },
    {
      "cell_type": "code",
      "source": [
        "# Add a global average pooling layer\n",
        "x = GlobalAveragePooling2D()(vgg16_base.output)"
      ],
      "metadata": {
        "id": "GiD0CiSvTCRG"
      },
      "execution_count": null,
      "outputs": []
    },
    {
      "cell_type": "code",
      "source": [
        "print(x.shape)"
      ],
      "metadata": {
        "colab": {
          "base_uri": "https://localhost:8080/"
        },
        "id": "O9gBqxTsAITB",
        "outputId": "268d2b86-5fbf-4788-d273-eedccf91b028"
      },
      "execution_count": null,
      "outputs": [
        {
          "output_type": "stream",
          "name": "stdout",
          "text": [
            "(None, 512)\n"
          ]
        }
      ]
    },
    {
      "cell_type": "code",
      "source": [
        "# Add a fully connected layer with 256 units and ReLU activation\n",
        "dense256 = Dense(256, activation='relu')(x)"
      ],
      "metadata": {
        "id": "fKbX1RK4TCB9"
      },
      "execution_count": null,
      "outputs": []
    },
    {
      "cell_type": "code",
      "source": [
        "print(dense256.shape)"
      ],
      "metadata": {
        "colab": {
          "base_uri": "https://localhost:8080/"
        },
        "id": "rC-whqBeEoyZ",
        "outputId": "03467898-7b87-4569-ab27-6e040ea072ac"
      },
      "execution_count": null,
      "outputs": [
        {
          "output_type": "stream",
          "name": "stdout",
          "text": [
            "(None, 256)\n"
          ]
        }
      ]
    },
    {
      "cell_type": "code",
      "source": [
        "# Add the final classification layer with 10 units (for CIFAR-10 classes) and softmax activation\n",
        "predictions = Dense(10, activation='softmax')(dense256)"
      ],
      "metadata": {
        "id": "yEYDagVQTB33"
      },
      "execution_count": null,
      "outputs": []
    },
    {
      "cell_type": "code",
      "source": [
        "print(predictions.shape)"
      ],
      "metadata": {
        "colab": {
          "base_uri": "https://localhost:8080/"
        },
        "id": "PX3ynji5HJ9_",
        "outputId": "3e20c493-1c85-4fd1-df55-ef1b72d7c56a"
      },
      "execution_count": null,
      "outputs": [
        {
          "output_type": "stream",
          "name": "stdout",
          "text": [
            "(None, 10)\n"
          ]
        }
      ]
    },
    {
      "cell_type": "code",
      "source": [
        "# Create the fine-tuned model\n",
        "ftmodel = Model(inputs=vgg16_base.input, outputs=predictions)"
      ],
      "metadata": {
        "id": "A-op7iObo8io"
      },
      "execution_count": null,
      "outputs": []
    },
    {
      "cell_type": "code",
      "source": [
        "print(ftmodel.summary())"
      ],
      "metadata": {
        "colab": {
          "base_uri": "https://localhost:8080/"
        },
        "id": "cNU8EascHjor",
        "outputId": "7c1f9a37-90ba-4b84-cd84-5d065b8fe40a"
      },
      "execution_count": null,
      "outputs": [
        {
          "output_type": "stream",
          "name": "stdout",
          "text": [
            "Model: \"model\"\n",
            "_________________________________________________________________\n",
            " Layer (type)                Output Shape              Param #   \n",
            "=================================================================\n",
            " input_1 (InputLayer)        [(None, 32, 32, 3)]       0         \n",
            "                                                                 \n",
            " block1_conv1 (Conv2D)       (None, 32, 32, 64)        1792      \n",
            "                                                                 \n",
            " block1_conv2 (Conv2D)       (None, 32, 32, 64)        36928     \n",
            "                                                                 \n",
            " block1_pool (MaxPooling2D)  (None, 16, 16, 64)        0         \n",
            "                                                                 \n",
            " block2_conv1 (Conv2D)       (None, 16, 16, 128)       73856     \n",
            "                                                                 \n",
            " block2_conv2 (Conv2D)       (None, 16, 16, 128)       147584    \n",
            "                                                                 \n",
            " block2_pool (MaxPooling2D)  (None, 8, 8, 128)         0         \n",
            "                                                                 \n",
            " block3_conv1 (Conv2D)       (None, 8, 8, 256)         295168    \n",
            "                                                                 \n",
            " block3_conv2 (Conv2D)       (None, 8, 8, 256)         590080    \n",
            "                                                                 \n",
            " block3_conv3 (Conv2D)       (None, 8, 8, 256)         590080    \n",
            "                                                                 \n",
            " block3_pool (MaxPooling2D)  (None, 4, 4, 256)         0         \n",
            "                                                                 \n",
            " block4_conv1 (Conv2D)       (None, 4, 4, 512)         1180160   \n",
            "                                                                 \n",
            " block4_conv2 (Conv2D)       (None, 4, 4, 512)         2359808   \n",
            "                                                                 \n",
            " block4_conv3 (Conv2D)       (None, 4, 4, 512)         2359808   \n",
            "                                                                 \n",
            " block4_pool (MaxPooling2D)  (None, 2, 2, 512)         0         \n",
            "                                                                 \n",
            " block5_conv1 (Conv2D)       (None, 2, 2, 512)         2359808   \n",
            "                                                                 \n",
            " block5_conv2 (Conv2D)       (None, 2, 2, 512)         2359808   \n",
            "                                                                 \n",
            " block5_conv3 (Conv2D)       (None, 2, 2, 512)         2359808   \n",
            "                                                                 \n",
            " block5_pool (MaxPooling2D)  (None, 1, 1, 512)         0         \n",
            "                                                                 \n",
            " global_average_pooling2d (  (None, 512)               0         \n",
            " GlobalAveragePooling2D)                                         \n",
            "                                                                 \n",
            " dense (Dense)               (None, 256)               131328    \n",
            "                                                                 \n",
            " dense_1 (Dense)             (None, 10)                2570      \n",
            "                                                                 \n",
            "=================================================================\n",
            "Total params: 14848586 (56.64 MB)\n",
            "Trainable params: 133898 (523.04 KB)\n",
            "Non-trainable params: 14714688 (56.13 MB)\n",
            "_________________________________________________________________\n",
            "None\n"
          ]
        }
      ]
    },
    {
      "cell_type": "markdown",
      "source": [
        "With your model complete it's time to train it and assess its performance.\n",
        "\n",
        "1. Compile your model using an appropriate loss function. Feel free to play around with the optimizer, but a good starting optimizer might be Adam with a learning rate of 0.001.\n",
        "2. Fit your model on the training data. Use the validation data to print the accuracy for each epoch. Try training for 10 epochs. Note, training can take a few hours so go ahead and grab a cup of coffee.\n",
        "\n",
        "**Optional**: See if you can implement an [Early Stopping](https://keras.io/api/callbacks/early_stopping/) criteria as a callback function."
      ],
      "metadata": {
        "id": "jjgG_9IMwuLS"
      }
    },
    {
      "cell_type": "code",
      "source": [
        "# Compile the model\n",
        "ftmodel.compile(optimizer=Adam(learning_rate=0.001),\n",
        "                loss='categorical_crossentropy',\n",
        "                metrics=['accuracy'])"
      ],
      "metadata": {
        "id": "xTFBXCe6TG5m"
      },
      "execution_count": null,
      "outputs": []
    },
    {
      "cell_type": "code",
      "source": [
        "# Train the model\n",
        "ftmodel.fit(x_train2, y_train2,\n",
        "            batch_size=32,\n",
        "            epochs=10,\n",
        "            validation_data=(x_test2, y_test2))"
      ],
      "metadata": {
        "id": "M5JnXlGPpkDg",
        "colab": {
          "base_uri": "https://localhost:8080/"
        },
        "outputId": "7b0e00bf-5421-4811-ad7b-10020f0c09cc"
      },
      "execution_count": null,
      "outputs": [
        {
          "output_type": "stream",
          "name": "stdout",
          "text": [
            "Epoch 1/10\n",
            "1407/1407 [==============================] - 56s 39ms/step - loss: 1.3602 - accuracy: 0.5262 - val_loss: 1.2188 - val_accuracy: 0.5692\n",
            "Epoch 2/10\n",
            "1407/1407 [==============================] - 54s 38ms/step - loss: 1.1797 - accuracy: 0.5866 - val_loss: 1.1820 - val_accuracy: 0.5820\n",
            "Epoch 3/10\n",
            "1407/1407 [==============================] - 54s 38ms/step - loss: 1.1139 - accuracy: 0.6101 - val_loss: 1.1315 - val_accuracy: 0.5996\n",
            "Epoch 4/10\n",
            "1407/1407 [==============================] - 54s 38ms/step - loss: 1.0637 - accuracy: 0.6269 - val_loss: 1.1517 - val_accuracy: 0.5968\n",
            "Epoch 5/10\n",
            "1407/1407 [==============================] - 54s 38ms/step - loss: 1.0212 - accuracy: 0.6413 - val_loss: 1.1261 - val_accuracy: 0.6156\n",
            "Epoch 6/10\n",
            "1407/1407 [==============================] - 54s 39ms/step - loss: 0.9821 - accuracy: 0.6566 - val_loss: 1.1100 - val_accuracy: 0.6138\n",
            "Epoch 7/10\n",
            "1407/1407 [==============================] - 54s 39ms/step - loss: 0.9459 - accuracy: 0.6695 - val_loss: 1.1015 - val_accuracy: 0.6140\n",
            "Epoch 8/10\n",
            "1407/1407 [==============================] - 54s 39ms/step - loss: 0.9133 - accuracy: 0.6795 - val_loss: 1.0866 - val_accuracy: 0.6240\n",
            "Epoch 9/10\n",
            "1407/1407 [==============================] - 54s 38ms/step - loss: 0.8828 - accuracy: 0.6902 - val_loss: 1.0753 - val_accuracy: 0.6292\n",
            "Epoch 10/10\n",
            "1407/1407 [==============================] - 54s 38ms/step - loss: 0.8541 - accuracy: 0.7023 - val_loss: 1.1013 - val_accuracy: 0.6204\n"
          ]
        },
        {
          "output_type": "execute_result",
          "data": {
            "text/plain": [
              "<keras.src.callbacks.History at 0x7b5cd46d4fa0>"
            ]
          },
          "metadata": {},
          "execution_count": 15
        }
      ]
    },
    {
      "cell_type": "markdown",
      "source": [
        "With your model trained, it's time to assess how well it performs on the test data.\n",
        "\n",
        "1. Use your trained model to calculate the accuracy on the test set. Is the model performance better than random?\n",
        "2. Experiment! See if you can tweak your model to improve performance.  "
      ],
      "metadata": {
        "id": "N8-T6EnmypvW"
      }
    },
    {
      "cell_type": "code",
      "source": [
        "# Evaluate the model on the test set\n",
        "test_loss, test_accuracy = ftmodel.evaluate(x_test, y_test)\n",
        "print(f\"Test Accuracy: {test_accuracy * 100:.2f}%\")"
      ],
      "metadata": {
        "id": "auYNYD0JpnaX",
        "colab": {
          "base_uri": "https://localhost:8080/"
        },
        "outputId": "5bd6f024-d75f-46bc-cfc6-c4037bfdfd57"
      },
      "execution_count": null,
      "outputs": [
        {
          "output_type": "stream",
          "name": "stdout",
          "text": [
            "313/313 [==============================] - 11s 34ms/step - loss: 1.1312 - accuracy: 0.6129\n",
            "Test Accuracy: 61.29%\n"
          ]
        }
      ]
    },
    {
      "cell_type": "markdown",
      "source": [
        "\n",
        "\n",
        "> It's interesting the accuracy is not that great at about 61.3%. The training accuracy was way better. Perhaps the model was overfitted using 90% of the data for training?\n",
        "\n"
      ],
      "metadata": {
        "id": "DhuRbJcRSwKq"
      }
    },
    {
      "cell_type": "code",
      "source": [
        "# Attempt 2 using optimizer=AdamW\n",
        "# Compile the model\n",
        "ftmodel.compile(optimizer=AdamW(learning_rate=0.001),\n",
        "                loss='categorical_crossentropy',\n",
        "                metrics=['accuracy'])"
      ],
      "metadata": {
        "id": "6PUYqdsNH6aO"
      },
      "execution_count": null,
      "outputs": []
    },
    {
      "cell_type": "code",
      "source": [
        "# Train the model (again)\n",
        "ftmodel.fit(x_train2, y_train2,\n",
        "            batch_size=32,\n",
        "            epochs=10,\n",
        "            validation_data=(x_test2, y_test2))"
      ],
      "metadata": {
        "colab": {
          "base_uri": "https://localhost:8080/"
        },
        "id": "sYcnGgtXLsCg",
        "outputId": "17fc8565-0c0c-44f1-b0fa-8af667388b5e"
      },
      "execution_count": null,
      "outputs": [
        {
          "output_type": "stream",
          "name": "stdout",
          "text": [
            "Epoch 1/10\n",
            "1407/1407 [==============================] - 54s 38ms/step - loss: 0.8238 - accuracy: 0.7110 - val_loss: 1.1125 - val_accuracy: 0.6158\n",
            "Epoch 2/10\n",
            "1407/1407 [==============================] - 54s 38ms/step - loss: 0.7984 - accuracy: 0.7200 - val_loss: 1.1092 - val_accuracy: 0.6238\n",
            "Epoch 3/10\n",
            "1407/1407 [==============================] - 54s 38ms/step - loss: 0.7723 - accuracy: 0.7282 - val_loss: 1.1185 - val_accuracy: 0.6274\n",
            "Epoch 4/10\n",
            "1407/1407 [==============================] - 53s 38ms/step - loss: 0.7499 - accuracy: 0.7372 - val_loss: 1.1381 - val_accuracy: 0.6248\n",
            "Epoch 5/10\n",
            "1407/1407 [==============================] - 54s 38ms/step - loss: 0.7253 - accuracy: 0.7462 - val_loss: 1.1222 - val_accuracy: 0.6222\n",
            "Epoch 6/10\n",
            "1407/1407 [==============================] - 54s 38ms/step - loss: 0.7025 - accuracy: 0.7543 - val_loss: 1.1237 - val_accuracy: 0.6228\n",
            "Epoch 7/10\n",
            "1407/1407 [==============================] - 54s 38ms/step - loss: 0.6832 - accuracy: 0.7620 - val_loss: 1.1714 - val_accuracy: 0.6184\n",
            "Epoch 8/10\n",
            "1407/1407 [==============================] - 54s 38ms/step - loss: 0.6627 - accuracy: 0.7677 - val_loss: 1.1701 - val_accuracy: 0.6190\n",
            "Epoch 9/10\n",
            "1407/1407 [==============================] - 54s 38ms/step - loss: 0.6418 - accuracy: 0.7774 - val_loss: 1.2119 - val_accuracy: 0.6178\n",
            "Epoch 10/10\n",
            "1407/1407 [==============================] - 54s 38ms/step - loss: 0.6211 - accuracy: 0.7829 - val_loss: 1.2163 - val_accuracy: 0.6200\n"
          ]
        },
        {
          "output_type": "execute_result",
          "data": {
            "text/plain": [
              "<keras.src.callbacks.History at 0x7b5bbc101720>"
            ]
          },
          "metadata": {},
          "execution_count": 34
        }
      ]
    },
    {
      "cell_type": "code",
      "source": [
        "# Evaluate the model on the test set\n",
        "test_loss, test_accuracy = ftmodel.evaluate(x_test2, y_test2)\n",
        "print(f\"Test Accuracy: {test_accuracy * 100:.2f}%\")"
      ],
      "metadata": {
        "colab": {
          "base_uri": "https://localhost:8080/"
        },
        "id": "oypXuC0jO_lS",
        "outputId": "f83a7279-1636-465a-a891-d74195ecb95f"
      },
      "execution_count": null,
      "outputs": [
        {
          "output_type": "stream",
          "name": "stdout",
          "text": [
            "157/157 [==============================] - 5s 34ms/step - loss: 1.2163 - accuracy: 0.6200\n",
            "Test Accuracy: 62.00%\n"
          ]
        }
      ]
    },
    {
      "cell_type": "markdown",
      "source": [
        "\n",
        "\n",
        "> Training using the AdamW optimizer did not improve the accuracy that much over using Adam.\n",
        "\n",
        "> Over 10 epochs there didn't appear an opportunity to use EarlyStopping as the accuracy continued to improve. I think I could have tried 20 or 30 epochs but would need more time for that.\n",
        "\n"
      ],
      "metadata": {
        "id": "HALbhp-jTpiG"
      }
    }
  ]
}